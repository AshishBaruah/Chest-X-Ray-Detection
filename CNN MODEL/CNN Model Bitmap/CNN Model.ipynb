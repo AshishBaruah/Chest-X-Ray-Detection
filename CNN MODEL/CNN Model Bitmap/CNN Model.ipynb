{
 "cells": [
  {
   "cell_type": "code",
   "execution_count": 1,
   "id": "139b0457",
   "metadata": {},
   "outputs": [],
   "source": [
    "import numpy as np\n",
    "from keras.models import Sequential\n",
    "from keras.layers import Convolution2D\n",
    "from keras.layers import MaxPooling2D\n",
    "from keras.layers import Flatten\n",
    "from keras.layers import Dense, Dropout\n",
    "from keras import optimizers"
   ]
  },
  {
   "cell_type": "code",
   "execution_count": 2,
   "id": "a38e66bc",
   "metadata": {},
   "outputs": [],
   "source": [
    "# Initialing the CNN\n",
    "classifier = Sequential()"
   ]
  },
  {
   "cell_type": "code",
   "execution_count": 3,
   "id": "dc379703",
   "metadata": {},
   "outputs": [],
   "source": [
    "# Step 1 - Convolutio Layer \n",
    "classifier.add(Convolution2D(32, 1,  1, input_shape = (64, 64, 3), activation = 'relu'))\n",
    "    "
   ]
  },
  {
   "cell_type": "code",
   "execution_count": 4,
   "id": "579a301b",
   "metadata": {},
   "outputs": [],
   "source": [
    "#step 2 - Pooling\n",
    "classifier.add(MaxPooling2D(pool_size =(2,2)))"
   ]
  },
  {
   "cell_type": "code",
   "execution_count": 5,
   "id": "9d85189c",
   "metadata": {},
   "outputs": [],
   "source": [
    "# Adding second convolution layer\n",
    "classifier.add(Convolution2D(32, 1,  1, activation = 'relu'))\n",
    "classifier.add(MaxPooling2D(pool_size =(2,2)))"
   ]
  },
  {
   "cell_type": "code",
   "execution_count": 6,
   "id": "849d8468",
   "metadata": {},
   "outputs": [],
   "source": [
    "#Adding 3rd Concolution Layer\n",
    "classifier.add(Convolution2D(64, 1,  1, activation = 'relu'))\n",
    "classifier.add(MaxPooling2D(pool_size =(2,2)))"
   ]
  },
  {
   "cell_type": "code",
   "execution_count": 7,
   "id": "1ef2708c",
   "metadata": {},
   "outputs": [],
   "source": [
    "#Step 3 - Flattening\n",
    "classifier.add(Flatten())"
   ]
  },
  {
   "cell_type": "code",
   "execution_count": 8,
   "id": "d9626982",
   "metadata": {},
   "outputs": [],
   "source": [
    "#Step 4 - Full Connection\n",
    "classifier.add(Dense(256, activation = 'relu'))\n",
    "classifier.add(Dropout(0.5))\n",
    "classifier.add(Dense(2, activation = 'softmax'))  #change class no.\n",
    "    "
   ]
  },
  {
   "cell_type": "code",
   "execution_count": 9,
   "id": "1b6046e1",
   "metadata": {},
   "outputs": [],
   "source": [
    "#Compiling The CNN\n",
    "classifier.compile(\n",
    "                  optimizer = optimizers.SGD(learning_rate = 0.01),\n",
    "                  loss = 'categorical_crossentropy',\n",
    "                  metrics = ['accuracy'])"
   ]
  },
  {
   "cell_type": "code",
   "execution_count": 10,
   "id": "b728e06a",
   "metadata": {},
   "outputs": [],
   "source": [
    "#Part 2 Fittting the CNN to the image\n",
    "from keras.preprocessing.image import ImageDataGenerator\n",
    "train_datagen = ImageDataGenerator(\n",
    "        rescale=1./255,\n",
    "        shear_range=0.2,\n",
    "        zoom_range=0.2,\n",
    "        horizontal_flip=True)\n",
    "\n",
    "test_datagen = ImageDataGenerator(rescale=1./255)"
   ]
  },
  {
   "cell_type": "code",
   "execution_count": 11,
   "id": "82e28730",
   "metadata": {},
   "outputs": [
    {
     "name": "stdout",
     "output_type": "stream",
     "text": [
      "Found 2488 images belonging to 2 classes.\n",
      "Found 622 images belonging to 2 classes.\n"
     ]
    }
   ],
   "source": [
    "training_set = train_datagen.flow_from_directory(\n",
    "        \"C:/Users/Pritam/Desktop/Project Model 2/CNN Model Bitmap/training_set\",\n",
    "        target_size=(64, 64),\n",
    "        batch_size=32,\n",
    "        class_mode='categorical')\n",
    "\n",
    "test_set = test_datagen.flow_from_directory(\n",
    "        \"C:/Users/Pritam/Desktop/Project Model 2/CNN Model Bitmap/testing_set\",\n",
    "        target_size=(64, 64),\n",
    "        batch_size=32,\n",
    "        class_mode='categorical')"
   ]
  },
  {
   "cell_type": "code",
   "execution_count": 12,
   "id": "f53c4d5a",
   "metadata": {},
   "outputs": [
    {
     "name": "stderr",
     "output_type": "stream",
     "text": [
      "C:\\Users\\Pritam\\AppData\\Local\\Temp\\ipykernel_8612\\21750160.py:4: UserWarning: `Model.fit_generator` is deprecated and will be removed in a future version. Please use `Model.fit`, which supports generators.\n",
      "  model = classifier.fit_generator(\n"
     ]
    },
    {
     "name": "stdout",
     "output_type": "stream",
     "text": [
      "Epoch 1/200\n",
      "78/78 [==============================] - 8s 94ms/step - loss: 0.6881 - accuracy: 0.5502 - val_loss: 0.6806 - val_accuracy: 0.5595\n",
      "Epoch 2/200\n",
      "78/78 [==============================] - 6s 76ms/step - loss: 0.6785 - accuracy: 0.5836 - val_loss: 0.6721 - val_accuracy: 0.5563\n",
      "Epoch 3/200\n",
      "78/78 [==============================] - 6s 78ms/step - loss: 0.6706 - accuracy: 0.6009 - val_loss: 0.6617 - val_accuracy: 0.6415\n",
      "Epoch 4/200\n",
      "78/78 [==============================] - 6s 77ms/step - loss: 0.6628 - accuracy: 0.6355 - val_loss: 0.6521 - val_accuracy: 0.7026\n",
      "Epoch 5/200\n",
      "78/78 [==============================] - 6s 76ms/step - loss: 0.6522 - accuracy: 0.6576 - val_loss: 0.6381 - val_accuracy: 0.6929\n",
      "Epoch 6/200\n",
      "78/78 [==============================] - 7s 84ms/step - loss: 0.6386 - accuracy: 0.6732 - val_loss: 0.6226 - val_accuracy: 0.7074\n",
      "Epoch 7/200\n",
      "78/78 [==============================] - 6s 76ms/step - loss: 0.6239 - accuracy: 0.6889 - val_loss: 0.6094 - val_accuracy: 0.7154\n",
      "Epoch 8/200\n",
      "78/78 [==============================] - 6s 82ms/step - loss: 0.6118 - accuracy: 0.6853 - val_loss: 0.5951 - val_accuracy: 0.7219\n",
      "Epoch 9/200\n",
      "78/78 [==============================] - 6s 81ms/step - loss: 0.6023 - accuracy: 0.6921 - val_loss: 0.5827 - val_accuracy: 0.7058\n",
      "Epoch 10/200\n",
      "78/78 [==============================] - 6s 80ms/step - loss: 0.5922 - accuracy: 0.7146 - val_loss: 0.5741 - val_accuracy: 0.7074\n",
      "Epoch 11/200\n",
      "78/78 [==============================] - 7s 87ms/step - loss: 0.5751 - accuracy: 0.7146 - val_loss: 0.5630 - val_accuracy: 0.7331\n",
      "Epoch 12/200\n",
      "78/78 [==============================] - 7s 92ms/step - loss: 0.5688 - accuracy: 0.7199 - val_loss: 0.5561 - val_accuracy: 0.7347\n",
      "Epoch 13/200\n",
      "78/78 [==============================] - 7s 87ms/step - loss: 0.5709 - accuracy: 0.7182 - val_loss: 0.5543 - val_accuracy: 0.7347\n",
      "Epoch 14/200\n",
      "78/78 [==============================] - 7s 86ms/step - loss: 0.5676 - accuracy: 0.7146 - val_loss: 0.5471 - val_accuracy: 0.7379\n",
      "Epoch 15/200\n",
      "78/78 [==============================] - 6s 77ms/step - loss: 0.5604 - accuracy: 0.7211 - val_loss: 0.5567 - val_accuracy: 0.7235\n",
      "Epoch 16/200\n",
      "78/78 [==============================] - 6s 80ms/step - loss: 0.5546 - accuracy: 0.7347 - val_loss: 0.5417 - val_accuracy: 0.7524\n",
      "Epoch 17/200\n",
      "78/78 [==============================] - 6s 75ms/step - loss: 0.5507 - accuracy: 0.7391 - val_loss: 0.5478 - val_accuracy: 0.7556\n",
      "Epoch 18/200\n",
      "78/78 [==============================] - 6s 78ms/step - loss: 0.5518 - accuracy: 0.7343 - val_loss: 0.5342 - val_accuracy: 0.7444\n",
      "Epoch 19/200\n",
      "78/78 [==============================] - 6s 78ms/step - loss: 0.5420 - accuracy: 0.7404 - val_loss: 0.5257 - val_accuracy: 0.7299\n",
      "Epoch 20/200\n",
      "78/78 [==============================] - 6s 78ms/step - loss: 0.5386 - accuracy: 0.7448 - val_loss: 0.5271 - val_accuracy: 0.7460\n",
      "Epoch 21/200\n",
      "78/78 [==============================] - 7s 87ms/step - loss: 0.5401 - accuracy: 0.7400 - val_loss: 0.5194 - val_accuracy: 0.7476\n",
      "Epoch 22/200\n",
      "78/78 [==============================] - 6s 80ms/step - loss: 0.5430 - accuracy: 0.7271 - val_loss: 0.5296 - val_accuracy: 0.7701\n",
      "Epoch 23/200\n",
      "78/78 [==============================] - 6s 80ms/step - loss: 0.5403 - accuracy: 0.7492 - val_loss: 0.5169 - val_accuracy: 0.7460\n",
      "Epoch 24/200\n",
      "78/78 [==============================] - 6s 82ms/step - loss: 0.5356 - accuracy: 0.7412 - val_loss: 0.5285 - val_accuracy: 0.7701\n",
      "Epoch 25/200\n",
      "78/78 [==============================] - 6s 80ms/step - loss: 0.5310 - accuracy: 0.7472 - val_loss: 0.5069 - val_accuracy: 0.7556\n",
      "Epoch 26/200\n",
      "78/78 [==============================] - 7s 91ms/step - loss: 0.5320 - accuracy: 0.7476 - val_loss: 0.5095 - val_accuracy: 0.7605\n",
      "Epoch 27/200\n",
      "78/78 [==============================] - 6s 77ms/step - loss: 0.5300 - accuracy: 0.7516 - val_loss: 0.5136 - val_accuracy: 0.7765\n",
      "Epoch 28/200\n",
      "78/78 [==============================] - 7s 85ms/step - loss: 0.5290 - accuracy: 0.7508 - val_loss: 0.5057 - val_accuracy: 0.7588\n",
      "Epoch 29/200\n",
      "78/78 [==============================] - 6s 79ms/step - loss: 0.5241 - accuracy: 0.7580 - val_loss: 0.5014 - val_accuracy: 0.7605\n",
      "Epoch 30/200\n",
      "78/78 [==============================] - 6s 77ms/step - loss: 0.5172 - accuracy: 0.7508 - val_loss: 0.5151 - val_accuracy: 0.7717\n",
      "Epoch 31/200\n",
      "78/78 [==============================] - 7s 83ms/step - loss: 0.5184 - accuracy: 0.7621 - val_loss: 0.4924 - val_accuracy: 0.7605\n",
      "Epoch 32/200\n",
      "78/78 [==============================] - 7s 89ms/step - loss: 0.5218 - accuracy: 0.7584 - val_loss: 0.4962 - val_accuracy: 0.7749\n",
      "Epoch 33/200\n",
      "78/78 [==============================] - 7s 90ms/step - loss: 0.5105 - accuracy: 0.7576 - val_loss: 0.4888 - val_accuracy: 0.7685\n",
      "Epoch 34/200\n",
      "78/78 [==============================] - 6s 83ms/step - loss: 0.5108 - accuracy: 0.7641 - val_loss: 0.4818 - val_accuracy: 0.7733\n",
      "Epoch 35/200\n",
      "78/78 [==============================] - 7s 84ms/step - loss: 0.5118 - accuracy: 0.7609 - val_loss: 0.4812 - val_accuracy: 0.7814\n",
      "Epoch 36/200\n",
      "78/78 [==============================] - 6s 82ms/step - loss: 0.5042 - accuracy: 0.7685 - val_loss: 0.4804 - val_accuracy: 0.7797\n",
      "Epoch 37/200\n",
      "78/78 [==============================] - 7s 84ms/step - loss: 0.5057 - accuracy: 0.7621 - val_loss: 0.4729 - val_accuracy: 0.7862\n",
      "Epoch 38/200\n",
      "78/78 [==============================] - 7s 86ms/step - loss: 0.5045 - accuracy: 0.7661 - val_loss: 0.4777 - val_accuracy: 0.7765\n",
      "Epoch 39/200\n",
      "78/78 [==============================] - 7s 86ms/step - loss: 0.5079 - accuracy: 0.7661 - val_loss: 0.4738 - val_accuracy: 0.7814\n",
      "Epoch 40/200\n",
      "78/78 [==============================] - 7s 84ms/step - loss: 0.4980 - accuracy: 0.7673 - val_loss: 0.4845 - val_accuracy: 0.7814\n",
      "Epoch 41/200\n",
      "78/78 [==============================] - 7s 86ms/step - loss: 0.4991 - accuracy: 0.7665 - val_loss: 0.4673 - val_accuracy: 0.7894\n",
      "Epoch 42/200\n",
      "78/78 [==============================] - 6s 80ms/step - loss: 0.4966 - accuracy: 0.7761 - val_loss: 0.4602 - val_accuracy: 0.7958\n",
      "Epoch 43/200\n",
      "78/78 [==============================] - 7s 88ms/step - loss: 0.4999 - accuracy: 0.7665 - val_loss: 0.4654 - val_accuracy: 0.7910\n",
      "Epoch 44/200\n",
      "78/78 [==============================] - 6s 78ms/step - loss: 0.4905 - accuracy: 0.7717 - val_loss: 0.4746 - val_accuracy: 0.7910\n",
      "Epoch 45/200\n",
      "78/78 [==============================] - 6s 81ms/step - loss: 0.5002 - accuracy: 0.7713 - val_loss: 0.4866 - val_accuracy: 0.7733\n",
      "Epoch 46/200\n",
      "78/78 [==============================] - 6s 82ms/step - loss: 0.4793 - accuracy: 0.7721 - val_loss: 0.4472 - val_accuracy: 0.7958\n",
      "Epoch 47/200\n",
      "78/78 [==============================] - 7s 84ms/step - loss: 0.4806 - accuracy: 0.7826 - val_loss: 0.4456 - val_accuracy: 0.7990\n",
      "Epoch 48/200\n",
      "78/78 [==============================] - 7s 86ms/step - loss: 0.4810 - accuracy: 0.7765 - val_loss: 0.4454 - val_accuracy: 0.8071\n",
      "Epoch 49/200\n",
      "78/78 [==============================] - 6s 82ms/step - loss: 0.4777 - accuracy: 0.7866 - val_loss: 0.4666 - val_accuracy: 0.7942\n",
      "Epoch 50/200\n",
      "78/78 [==============================] - 7s 85ms/step - loss: 0.4799 - accuracy: 0.7842 - val_loss: 0.4457 - val_accuracy: 0.8071\n",
      "Epoch 51/200\n",
      "78/78 [==============================] - 6s 82ms/step - loss: 0.4796 - accuracy: 0.7809 - val_loss: 0.4383 - val_accuracy: 0.8183\n",
      "Epoch 52/200\n",
      "78/78 [==============================] - 6s 76ms/step - loss: 0.4700 - accuracy: 0.7922 - val_loss: 0.4361 - val_accuracy: 0.8071\n",
      "Epoch 53/200\n",
      "78/78 [==============================] - 6s 82ms/step - loss: 0.4768 - accuracy: 0.7878 - val_loss: 0.4323 - val_accuracy: 0.8135\n",
      "Epoch 54/200\n",
      "78/78 [==============================] - 6s 76ms/step - loss: 0.4744 - accuracy: 0.7809 - val_loss: 0.4314 - val_accuracy: 0.8087\n",
      "Epoch 55/200\n",
      "78/78 [==============================] - 6s 77ms/step - loss: 0.4680 - accuracy: 0.7886 - val_loss: 0.4325 - val_accuracy: 0.8103\n",
      "Epoch 56/200\n",
      "78/78 [==============================] - 6s 79ms/step - loss: 0.4649 - accuracy: 0.7854 - val_loss: 0.4308 - val_accuracy: 0.8103\n",
      "Epoch 57/200\n",
      "78/78 [==============================] - 6s 77ms/step - loss: 0.4557 - accuracy: 0.7978 - val_loss: 0.4231 - val_accuracy: 0.8232\n",
      "Epoch 58/200\n",
      "78/78 [==============================] - 6s 78ms/step - loss: 0.4551 - accuracy: 0.7954 - val_loss: 0.4157 - val_accuracy: 0.8039\n",
      "Epoch 59/200\n",
      "78/78 [==============================] - 6s 76ms/step - loss: 0.4575 - accuracy: 0.7962 - val_loss: 0.4211 - val_accuracy: 0.8248\n",
      "Epoch 60/200\n",
      "78/78 [==============================] - 6s 75ms/step - loss: 0.4590 - accuracy: 0.8002 - val_loss: 0.4245 - val_accuracy: 0.8103\n",
      "Epoch 61/200\n",
      "78/78 [==============================] - 6s 79ms/step - loss: 0.4521 - accuracy: 0.8039 - val_loss: 0.4060 - val_accuracy: 0.8167\n",
      "Epoch 62/200\n",
      "78/78 [==============================] - 6s 75ms/step - loss: 0.4539 - accuracy: 0.7998 - val_loss: 0.4142 - val_accuracy: 0.8167\n",
      "Epoch 63/200\n",
      "78/78 [==============================] - 6s 76ms/step - loss: 0.4436 - accuracy: 0.8006 - val_loss: 0.4037 - val_accuracy: 0.8167\n",
      "Epoch 64/200\n",
      "78/78 [==============================] - 6s 78ms/step - loss: 0.4502 - accuracy: 0.7950 - val_loss: 0.3957 - val_accuracy: 0.8264\n",
      "Epoch 65/200\n",
      "78/78 [==============================] - 6s 75ms/step - loss: 0.4414 - accuracy: 0.7962 - val_loss: 0.3971 - val_accuracy: 0.8328\n",
      "Epoch 66/200\n",
      "78/78 [==============================] - 6s 77ms/step - loss: 0.4414 - accuracy: 0.8035 - val_loss: 0.3932 - val_accuracy: 0.8280\n",
      "Epoch 67/200\n",
      "78/78 [==============================] - 6s 77ms/step - loss: 0.4343 - accuracy: 0.8111 - val_loss: 0.3909 - val_accuracy: 0.8392\n",
      "Epoch 68/200\n",
      "78/78 [==============================] - 6s 75ms/step - loss: 0.4373 - accuracy: 0.8103 - val_loss: 0.3877 - val_accuracy: 0.8248\n",
      "Epoch 69/200\n",
      "78/78 [==============================] - 6s 79ms/step - loss: 0.4299 - accuracy: 0.8119 - val_loss: 0.3910 - val_accuracy: 0.8328\n",
      "Epoch 70/200\n",
      "78/78 [==============================] - 6s 75ms/step - loss: 0.4388 - accuracy: 0.8039 - val_loss: 0.3905 - val_accuracy: 0.8296\n",
      "Epoch 71/200\n",
      "78/78 [==============================] - 6s 76ms/step - loss: 0.4352 - accuracy: 0.8095 - val_loss: 0.3914 - val_accuracy: 0.8248\n",
      "Epoch 72/200\n",
      "78/78 [==============================] - 6s 77ms/step - loss: 0.4272 - accuracy: 0.8119 - val_loss: 0.3826 - val_accuracy: 0.8344\n",
      "Epoch 73/200\n",
      "78/78 [==============================] - 6s 76ms/step - loss: 0.4261 - accuracy: 0.8079 - val_loss: 0.3739 - val_accuracy: 0.8344\n",
      "Epoch 74/200\n",
      "78/78 [==============================] - 6s 79ms/step - loss: 0.4170 - accuracy: 0.8115 - val_loss: 0.3745 - val_accuracy: 0.8457\n",
      "Epoch 75/200\n",
      "78/78 [==============================] - 6s 80ms/step - loss: 0.4228 - accuracy: 0.8123 - val_loss: 0.3673 - val_accuracy: 0.8424\n",
      "Epoch 76/200\n",
      "78/78 [==============================] - 6s 77ms/step - loss: 0.4149 - accuracy: 0.8187 - val_loss: 0.3629 - val_accuracy: 0.8328\n",
      "Epoch 77/200\n",
      "78/78 [==============================] - 6s 80ms/step - loss: 0.4101 - accuracy: 0.8187 - val_loss: 0.3701 - val_accuracy: 0.8457\n",
      "Epoch 78/200\n",
      "78/78 [==============================] - 6s 75ms/step - loss: 0.4142 - accuracy: 0.8147 - val_loss: 0.3615 - val_accuracy: 0.8360\n",
      "Epoch 79/200\n",
      "78/78 [==============================] - 6s 78ms/step - loss: 0.4132 - accuracy: 0.8095 - val_loss: 0.3614 - val_accuracy: 0.8473\n",
      "Epoch 80/200\n",
      "78/78 [==============================] - 6s 78ms/step - loss: 0.4151 - accuracy: 0.8087 - val_loss: 0.3651 - val_accuracy: 0.8457\n",
      "Epoch 81/200\n",
      "78/78 [==============================] - 6s 76ms/step - loss: 0.4154 - accuracy: 0.8151 - val_loss: 0.3536 - val_accuracy: 0.8505\n",
      "Epoch 82/200\n",
      "78/78 [==============================] - 6s 79ms/step - loss: 0.3962 - accuracy: 0.8227 - val_loss: 0.3532 - val_accuracy: 0.8441\n",
      "Epoch 83/200\n",
      "78/78 [==============================] - 6s 77ms/step - loss: 0.4011 - accuracy: 0.8195 - val_loss: 0.3458 - val_accuracy: 0.8424\n",
      "Epoch 84/200\n",
      "78/78 [==============================] - 6s 76ms/step - loss: 0.3957 - accuracy: 0.8268 - val_loss: 0.3417 - val_accuracy: 0.8601\n",
      "Epoch 85/200\n",
      "78/78 [==============================] - 6s 80ms/step - loss: 0.3980 - accuracy: 0.8240 - val_loss: 0.3528 - val_accuracy: 0.8344\n",
      "Epoch 86/200\n",
      "78/78 [==============================] - 6s 76ms/step - loss: 0.3966 - accuracy: 0.8312 - val_loss: 0.3391 - val_accuracy: 0.8633\n",
      "Epoch 87/200\n",
      "78/78 [==============================] - 6s 78ms/step - loss: 0.3963 - accuracy: 0.8304 - val_loss: 0.3382 - val_accuracy: 0.8392\n",
      "Epoch 88/200\n",
      "78/78 [==============================] - 6s 79ms/step - loss: 0.3938 - accuracy: 0.8223 - val_loss: 0.3285 - val_accuracy: 0.8505\n",
      "Epoch 89/200\n",
      "78/78 [==============================] - 8s 97ms/step - loss: 0.3894 - accuracy: 0.8384 - val_loss: 0.3316 - val_accuracy: 0.8489\n",
      "Epoch 90/200\n",
      "78/78 [==============================] - 7s 95ms/step - loss: 0.3809 - accuracy: 0.8348 - val_loss: 0.3439 - val_accuracy: 0.8537\n",
      "Epoch 91/200\n",
      "78/78 [==============================] - 7s 84ms/step - loss: 0.3863 - accuracy: 0.8272 - val_loss: 0.3400 - val_accuracy: 0.8441\n",
      "Epoch 92/200\n",
      "78/78 [==============================] - 6s 83ms/step - loss: 0.3718 - accuracy: 0.8372 - val_loss: 0.3214 - val_accuracy: 0.8601\n",
      "Epoch 93/200\n",
      "78/78 [==============================] - 6s 77ms/step - loss: 0.3808 - accuracy: 0.8268 - val_loss: 0.3102 - val_accuracy: 0.8698\n",
      "Epoch 94/200\n",
      "78/78 [==============================] - 6s 78ms/step - loss: 0.3834 - accuracy: 0.8340 - val_loss: 0.3463 - val_accuracy: 0.8457\n",
      "Epoch 95/200\n",
      "78/78 [==============================] - 6s 80ms/step - loss: 0.3714 - accuracy: 0.8368 - val_loss: 0.3011 - val_accuracy: 0.8666\n",
      "Epoch 96/200\n",
      "78/78 [==============================] - 6s 76ms/step - loss: 0.3793 - accuracy: 0.8328 - val_loss: 0.3089 - val_accuracy: 0.8601\n",
      "Epoch 97/200\n",
      "78/78 [==============================] - 6s 79ms/step - loss: 0.3690 - accuracy: 0.8328 - val_loss: 0.3034 - val_accuracy: 0.8730\n",
      "Epoch 98/200\n",
      "78/78 [==============================] - 6s 77ms/step - loss: 0.3724 - accuracy: 0.8380 - val_loss: 0.3022 - val_accuracy: 0.8633\n",
      "Epoch 99/200\n",
      "78/78 [==============================] - 6s 77ms/step - loss: 0.3766 - accuracy: 0.8348 - val_loss: 0.3031 - val_accuracy: 0.8682\n",
      "Epoch 100/200\n",
      "78/78 [==============================] - 6s 80ms/step - loss: 0.3651 - accuracy: 0.8396 - val_loss: 0.2974 - val_accuracy: 0.8633\n",
      "Epoch 101/200\n",
      "78/78 [==============================] - 6s 77ms/step - loss: 0.3490 - accuracy: 0.8501 - val_loss: 0.2923 - val_accuracy: 0.8730\n",
      "Epoch 102/200\n",
      "78/78 [==============================] - 6s 78ms/step - loss: 0.3460 - accuracy: 0.8424 - val_loss: 0.2880 - val_accuracy: 0.8698\n",
      "Epoch 103/200\n",
      "78/78 [==============================] - 6s 78ms/step - loss: 0.3607 - accuracy: 0.8424 - val_loss: 0.3224 - val_accuracy: 0.8842\n",
      "Epoch 104/200\n",
      "78/78 [==============================] - 6s 76ms/step - loss: 0.3545 - accuracy: 0.8441 - val_loss: 0.2866 - val_accuracy: 0.8939\n",
      "Epoch 105/200\n",
      "78/78 [==============================] - 6s 79ms/step - loss: 0.3569 - accuracy: 0.8489 - val_loss: 0.2827 - val_accuracy: 0.8778\n",
      "Epoch 106/200\n",
      "78/78 [==============================] - 6s 78ms/step - loss: 0.3484 - accuracy: 0.8477 - val_loss: 0.2737 - val_accuracy: 0.8810\n",
      "Epoch 107/200\n",
      "78/78 [==============================] - 6s 77ms/step - loss: 0.3434 - accuracy: 0.8489 - val_loss: 0.2784 - val_accuracy: 0.8826\n",
      "Epoch 108/200\n",
      "78/78 [==============================] - 6s 81ms/step - loss: 0.3410 - accuracy: 0.8521 - val_loss: 0.2805 - val_accuracy: 0.8746\n",
      "Epoch 109/200\n",
      "78/78 [==============================] - 6s 76ms/step - loss: 0.3456 - accuracy: 0.8517 - val_loss: 0.2865 - val_accuracy: 0.8714\n",
      "Epoch 110/200\n",
      "78/78 [==============================] - 6s 80ms/step - loss: 0.3420 - accuracy: 0.8553 - val_loss: 0.2664 - val_accuracy: 0.8891\n",
      "Epoch 111/200\n",
      "78/78 [==============================] - 6s 79ms/step - loss: 0.3327 - accuracy: 0.8593 - val_loss: 0.3065 - val_accuracy: 0.8521\n",
      "Epoch 112/200\n",
      "78/78 [==============================] - 6s 76ms/step - loss: 0.3406 - accuracy: 0.8557 - val_loss: 0.2693 - val_accuracy: 0.8762\n",
      "Epoch 113/200\n",
      "78/78 [==============================] - 6s 80ms/step - loss: 0.3328 - accuracy: 0.8549 - val_loss: 0.2859 - val_accuracy: 0.8778\n",
      "Epoch 114/200\n",
      "78/78 [==============================] - 6s 75ms/step - loss: 0.3425 - accuracy: 0.8461 - val_loss: 0.2568 - val_accuracy: 0.8842\n",
      "Epoch 115/200\n"
     ]
    },
    {
     "name": "stdout",
     "output_type": "stream",
     "text": [
      "78/78 [==============================] - 8s 101ms/step - loss: 0.3291 - accuracy: 0.8589 - val_loss: 0.2526 - val_accuracy: 0.8939\n",
      "Epoch 116/200\n",
      "78/78 [==============================] - 9s 121ms/step - loss: 0.3269 - accuracy: 0.8589 - val_loss: 0.2493 - val_accuracy: 0.8939\n",
      "Epoch 117/200\n",
      "78/78 [==============================] - 9s 118ms/step - loss: 0.3266 - accuracy: 0.8569 - val_loss: 0.2601 - val_accuracy: 0.8907\n",
      "Epoch 118/200\n",
      "78/78 [==============================] - 9s 121ms/step - loss: 0.3169 - accuracy: 0.8662 - val_loss: 0.2426 - val_accuracy: 0.9068\n",
      "Epoch 119/200\n",
      "78/78 [==============================] - 8s 108ms/step - loss: 0.3165 - accuracy: 0.8621 - val_loss: 0.2348 - val_accuracy: 0.9003\n",
      "Epoch 120/200\n",
      "78/78 [==============================] - 7s 89ms/step - loss: 0.3149 - accuracy: 0.8738 - val_loss: 0.2339 - val_accuracy: 0.8891\n",
      "Epoch 121/200\n",
      "78/78 [==============================] - 7s 86ms/step - loss: 0.3143 - accuracy: 0.8682 - val_loss: 0.2320 - val_accuracy: 0.9132\n",
      "Epoch 122/200\n",
      "78/78 [==============================] - 6s 82ms/step - loss: 0.3173 - accuracy: 0.8633 - val_loss: 0.2339 - val_accuracy: 0.9260\n",
      "Epoch 123/200\n",
      "78/78 [==============================] - 7s 83ms/step - loss: 0.3139 - accuracy: 0.8682 - val_loss: 0.2304 - val_accuracy: 0.9003\n",
      "Epoch 124/200\n",
      "78/78 [==============================] - 7s 84ms/step - loss: 0.3080 - accuracy: 0.8645 - val_loss: 0.2351 - val_accuracy: 0.9068\n",
      "Epoch 125/200\n",
      "78/78 [==============================] - 6s 81ms/step - loss: 0.3013 - accuracy: 0.8706 - val_loss: 0.2410 - val_accuracy: 0.8907\n",
      "Epoch 126/200\n",
      "78/78 [==============================] - 7s 83ms/step - loss: 0.3128 - accuracy: 0.8654 - val_loss: 0.2565 - val_accuracy: 0.8842\n",
      "Epoch 127/200\n",
      "78/78 [==============================] - 6s 77ms/step - loss: 0.2973 - accuracy: 0.8754 - val_loss: 0.2487 - val_accuracy: 0.8939\n",
      "Epoch 128/200\n",
      "78/78 [==============================] - 6s 81ms/step - loss: 0.3083 - accuracy: 0.8714 - val_loss: 0.2444 - val_accuracy: 0.8971\n",
      "Epoch 129/200\n",
      "78/78 [==============================] - 6s 78ms/step - loss: 0.2916 - accuracy: 0.8742 - val_loss: 0.2154 - val_accuracy: 0.9405\n",
      "Epoch 130/200\n",
      "78/78 [==============================] - 6s 75ms/step - loss: 0.2936 - accuracy: 0.8802 - val_loss: 0.2189 - val_accuracy: 0.9019\n",
      "Epoch 131/200\n",
      "78/78 [==============================] - 6s 83ms/step - loss: 0.2888 - accuracy: 0.8806 - val_loss: 0.2112 - val_accuracy: 0.9293\n",
      "Epoch 132/200\n",
      "78/78 [==============================] - 6s 77ms/step - loss: 0.2853 - accuracy: 0.8798 - val_loss: 0.2425 - val_accuracy: 0.8891\n",
      "Epoch 133/200\n",
      "78/78 [==============================] - 6s 76ms/step - loss: 0.2884 - accuracy: 0.8798 - val_loss: 0.2108 - val_accuracy: 0.9051\n",
      "Epoch 134/200\n",
      "78/78 [==============================] - 6s 79ms/step - loss: 0.2927 - accuracy: 0.8790 - val_loss: 0.2175 - val_accuracy: 0.9180\n",
      "Epoch 135/200\n",
      "78/78 [==============================] - 7s 86ms/step - loss: 0.2802 - accuracy: 0.8798 - val_loss: 0.2042 - val_accuracy: 0.9212\n",
      "Epoch 136/200\n",
      "78/78 [==============================] - 7s 89ms/step - loss: 0.2777 - accuracy: 0.8846 - val_loss: 0.2082 - val_accuracy: 0.9293\n",
      "Epoch 137/200\n",
      "78/78 [==============================] - 6s 77ms/step - loss: 0.2818 - accuracy: 0.8855 - val_loss: 0.2062 - val_accuracy: 0.9277\n",
      "Epoch 138/200\n",
      "78/78 [==============================] - 6s 76ms/step - loss: 0.2676 - accuracy: 0.8919 - val_loss: 0.2352 - val_accuracy: 0.8971\n",
      "Epoch 139/200\n",
      "78/78 [==============================] - 6s 78ms/step - loss: 0.2795 - accuracy: 0.8883 - val_loss: 0.1920 - val_accuracy: 0.9405\n",
      "Epoch 140/200\n",
      "78/78 [==============================] - 6s 76ms/step - loss: 0.2774 - accuracy: 0.8838 - val_loss: 0.1894 - val_accuracy: 0.9405\n",
      "Epoch 141/200\n",
      "78/78 [==============================] - 6s 77ms/step - loss: 0.2715 - accuracy: 0.8959 - val_loss: 0.1862 - val_accuracy: 0.9341\n",
      "Epoch 142/200\n",
      "78/78 [==============================] - 6s 78ms/step - loss: 0.2805 - accuracy: 0.8850 - val_loss: 0.1814 - val_accuracy: 0.9405\n",
      "Epoch 143/200\n",
      "78/78 [==============================] - 6s 75ms/step - loss: 0.2689 - accuracy: 0.8850 - val_loss: 0.1768 - val_accuracy: 0.9421\n",
      "Epoch 144/200\n",
      "78/78 [==============================] - 6s 78ms/step - loss: 0.2711 - accuracy: 0.8883 - val_loss: 0.1769 - val_accuracy: 0.9421\n",
      "Epoch 145/200\n",
      "78/78 [==============================] - 6s 75ms/step - loss: 0.2680 - accuracy: 0.8846 - val_loss: 0.1840 - val_accuracy: 0.9309\n",
      "Epoch 146/200\n",
      "78/78 [==============================] - 6s 76ms/step - loss: 0.2637 - accuracy: 0.8802 - val_loss: 0.1883 - val_accuracy: 0.9405\n",
      "Epoch 147/200\n",
      "78/78 [==============================] - 6s 78ms/step - loss: 0.2675 - accuracy: 0.8911 - val_loss: 0.1681 - val_accuracy: 0.9421\n",
      "Epoch 148/200\n",
      "78/78 [==============================] - 6s 75ms/step - loss: 0.2582 - accuracy: 0.8975 - val_loss: 0.1712 - val_accuracy: 0.9309\n",
      "Epoch 149/200\n",
      "78/78 [==============================] - 6s 77ms/step - loss: 0.2504 - accuracy: 0.8987 - val_loss: 0.2016 - val_accuracy: 0.9260\n",
      "Epoch 150/200\n",
      "78/78 [==============================] - 6s 76ms/step - loss: 0.2518 - accuracy: 0.8907 - val_loss: 0.1825 - val_accuracy: 0.9341\n",
      "Epoch 151/200\n",
      "78/78 [==============================] - 6s 76ms/step - loss: 0.2537 - accuracy: 0.9019 - val_loss: 0.1807 - val_accuracy: 0.9341\n",
      "Epoch 152/200\n",
      "78/78 [==============================] - 6s 78ms/step - loss: 0.2572 - accuracy: 0.8999 - val_loss: 0.2100 - val_accuracy: 0.9148\n",
      "Epoch 153/200\n",
      "78/78 [==============================] - 6s 75ms/step - loss: 0.2605 - accuracy: 0.8935 - val_loss: 0.1659 - val_accuracy: 0.9437\n",
      "Epoch 154/200\n",
      "78/78 [==============================] - 6s 76ms/step - loss: 0.2501 - accuracy: 0.9035 - val_loss: 0.1573 - val_accuracy: 0.9437\n",
      "Epoch 155/200\n",
      "78/78 [==============================] - 6s 79ms/step - loss: 0.2472 - accuracy: 0.8943 - val_loss: 0.1620 - val_accuracy: 0.9437\n",
      "Epoch 156/200\n",
      "78/78 [==============================] - 6s 75ms/step - loss: 0.2559 - accuracy: 0.8987 - val_loss: 0.1568 - val_accuracy: 0.9437\n",
      "Epoch 157/200\n",
      "78/78 [==============================] - 6s 78ms/step - loss: 0.2368 - accuracy: 0.9011 - val_loss: 0.1676 - val_accuracy: 0.9518\n",
      "Epoch 158/200\n",
      "78/78 [==============================] - 6s 77ms/step - loss: 0.2407 - accuracy: 0.8975 - val_loss: 0.1494 - val_accuracy: 0.9453\n",
      "Epoch 159/200\n",
      "78/78 [==============================] - 6s 75ms/step - loss: 0.2529 - accuracy: 0.9003 - val_loss: 0.1663 - val_accuracy: 0.9373\n",
      "Epoch 160/200\n",
      "78/78 [==============================] - 6s 79ms/step - loss: 0.2307 - accuracy: 0.9136 - val_loss: 0.1541 - val_accuracy: 0.9453\n",
      "Epoch 161/200\n",
      "78/78 [==============================] - 6s 76ms/step - loss: 0.2368 - accuracy: 0.9047 - val_loss: 0.1493 - val_accuracy: 0.9469\n",
      "Epoch 162/200\n",
      "78/78 [==============================] - 6s 76ms/step - loss: 0.2314 - accuracy: 0.9100 - val_loss: 0.1443 - val_accuracy: 0.9534\n",
      "Epoch 163/200\n",
      "78/78 [==============================] - 6s 79ms/step - loss: 0.2335 - accuracy: 0.9120 - val_loss: 0.1431 - val_accuracy: 0.9518\n",
      "Epoch 164/200\n",
      "78/78 [==============================] - 6s 75ms/step - loss: 0.2313 - accuracy: 0.9035 - val_loss: 0.1508 - val_accuracy: 0.9453\n",
      "Epoch 165/200\n",
      "78/78 [==============================] - 6s 77ms/step - loss: 0.2251 - accuracy: 0.9076 - val_loss: 0.1521 - val_accuracy: 0.9389\n",
      "Epoch 166/200\n",
      "78/78 [==============================] - 6s 77ms/step - loss: 0.2305 - accuracy: 0.9059 - val_loss: 0.1435 - val_accuracy: 0.9550\n",
      "Epoch 167/200\n",
      "78/78 [==============================] - 6s 76ms/step - loss: 0.2160 - accuracy: 0.9152 - val_loss: 0.1330 - val_accuracy: 0.9518\n",
      "Epoch 168/200\n",
      "78/78 [==============================] - 6s 79ms/step - loss: 0.2300 - accuracy: 0.9015 - val_loss: 0.1687 - val_accuracy: 0.9341\n",
      "Epoch 169/200\n",
      "78/78 [==============================] - 6s 75ms/step - loss: 0.2113 - accuracy: 0.9172 - val_loss: 0.1345 - val_accuracy: 0.9534\n",
      "Epoch 170/200\n",
      "78/78 [==============================] - 6s 76ms/step - loss: 0.2036 - accuracy: 0.9204 - val_loss: 0.1378 - val_accuracy: 0.9566\n",
      "Epoch 171/200\n",
      "78/78 [==============================] - 6s 78ms/step - loss: 0.2220 - accuracy: 0.9132 - val_loss: 0.1371 - val_accuracy: 0.9582\n"
     ]
    },
    {
     "name": "stdout",
     "output_type": "stream",
     "text": [
      "Epoch 172/200\n",
      "78/78 [==============================] - 6s 75ms/step - loss: 0.2352 - accuracy: 0.9043 - val_loss: 0.1382 - val_accuracy: 0.9614\n",
      "Epoch 173/200\n",
      "78/78 [==============================] - 6s 78ms/step - loss: 0.2014 - accuracy: 0.9240 - val_loss: 0.1348 - val_accuracy: 0.9421\n",
      "Epoch 174/200\n",
      "78/78 [==============================] - 6s 77ms/step - loss: 0.2135 - accuracy: 0.9092 - val_loss: 0.1330 - val_accuracy: 0.9550\n",
      "Epoch 175/200\n",
      "78/78 [==============================] - 6s 74ms/step - loss: 0.2128 - accuracy: 0.9096 - val_loss: 0.1321 - val_accuracy: 0.9582\n",
      "Epoch 176/200\n",
      "78/78 [==============================] - 6s 80ms/step - loss: 0.2094 - accuracy: 0.9172 - val_loss: 0.1274 - val_accuracy: 0.9614\n",
      "Epoch 177/200\n",
      "78/78 [==============================] - 6s 75ms/step - loss: 0.2040 - accuracy: 0.9192 - val_loss: 0.1306 - val_accuracy: 0.9421\n",
      "Epoch 178/200\n",
      "78/78 [==============================] - 6s 76ms/step - loss: 0.2090 - accuracy: 0.9204 - val_loss: 0.1397 - val_accuracy: 0.9469\n",
      "Epoch 179/200\n",
      "78/78 [==============================] - 6s 78ms/step - loss: 0.2069 - accuracy: 0.9216 - val_loss: 0.1483 - val_accuracy: 0.9309\n",
      "Epoch 180/200\n",
      "78/78 [==============================] - 6s 75ms/step - loss: 0.2069 - accuracy: 0.9128 - val_loss: 0.1679 - val_accuracy: 0.9405\n",
      "Epoch 181/200\n",
      "78/78 [==============================] - 6s 77ms/step - loss: 0.1989 - accuracy: 0.9228 - val_loss: 0.1182 - val_accuracy: 0.9662\n",
      "Epoch 182/200\n",
      "78/78 [==============================] - 6s 77ms/step - loss: 0.1807 - accuracy: 0.9248 - val_loss: 0.1117 - val_accuracy: 0.9598\n",
      "Epoch 183/200\n",
      "78/78 [==============================] - 6s 75ms/step - loss: 0.2054 - accuracy: 0.9232 - val_loss: 0.1145 - val_accuracy: 0.9598\n",
      "Epoch 184/200\n",
      "78/78 [==============================] - 6s 79ms/step - loss: 0.1969 - accuracy: 0.9256 - val_loss: 0.1120 - val_accuracy: 0.9566\n",
      "Epoch 185/200\n",
      "78/78 [==============================] - 6s 77ms/step - loss: 0.1970 - accuracy: 0.9148 - val_loss: 0.1126 - val_accuracy: 0.9566\n",
      "Epoch 186/200\n",
      "78/78 [==============================] - 6s 76ms/step - loss: 0.1931 - accuracy: 0.9285 - val_loss: 0.1213 - val_accuracy: 0.9502\n",
      "Epoch 187/200\n",
      "78/78 [==============================] - 6s 79ms/step - loss: 0.1887 - accuracy: 0.9264 - val_loss: 0.1099 - val_accuracy: 0.9695\n",
      "Epoch 188/200\n",
      "78/78 [==============================] - 6s 75ms/step - loss: 0.1902 - accuracy: 0.9281 - val_loss: 0.1132 - val_accuracy: 0.9598\n",
      "Epoch 189/200\n",
      "78/78 [==============================] - 6s 78ms/step - loss: 0.1931 - accuracy: 0.9244 - val_loss: 0.1127 - val_accuracy: 0.9662\n",
      "Epoch 190/200\n",
      "78/78 [==============================] - 6s 77ms/step - loss: 0.1846 - accuracy: 0.9256 - val_loss: 0.1162 - val_accuracy: 0.9727\n",
      "Epoch 191/200\n",
      "78/78 [==============================] - 6s 75ms/step - loss: 0.1758 - accuracy: 0.9317 - val_loss: 0.1059 - val_accuracy: 0.9598\n",
      "Epoch 192/200\n",
      "78/78 [==============================] - 6s 79ms/step - loss: 0.1813 - accuracy: 0.9264 - val_loss: 0.1205 - val_accuracy: 0.9502\n",
      "Epoch 193/200\n",
      "78/78 [==============================] - 6s 74ms/step - loss: 0.1980 - accuracy: 0.9196 - val_loss: 0.0996 - val_accuracy: 0.9630\n",
      "Epoch 194/200\n",
      "78/78 [==============================] - 6s 77ms/step - loss: 0.1761 - accuracy: 0.9329 - val_loss: 0.1005 - val_accuracy: 0.9678\n",
      "Epoch 195/200\n",
      "78/78 [==============================] - 6s 78ms/step - loss: 0.1883 - accuracy: 0.9244 - val_loss: 0.1019 - val_accuracy: 0.9678\n",
      "Epoch 196/200\n",
      "78/78 [==============================] - 6s 76ms/step - loss: 0.1807 - accuracy: 0.9281 - val_loss: 0.1007 - val_accuracy: 0.9630\n",
      "Epoch 197/200\n",
      "78/78 [==============================] - 6s 77ms/step - loss: 0.1755 - accuracy: 0.9268 - val_loss: 0.0935 - val_accuracy: 0.9678\n",
      "Epoch 198/200\n",
      "78/78 [==============================] - 6s 77ms/step - loss: 0.1953 - accuracy: 0.9232 - val_loss: 0.0972 - val_accuracy: 0.9711\n",
      "Epoch 199/200\n",
      "78/78 [==============================] - 6s 75ms/step - loss: 0.1814 - accuracy: 0.9273 - val_loss: 0.0973 - val_accuracy: 0.9662\n",
      "Epoch 200/200\n",
      "78/78 [==============================] - 6s 78ms/step - loss: 0.1876 - accuracy: 0.9208 - val_loss: 0.0968 - val_accuracy: 0.9695\n"
     ]
    }
   ],
   "source": [
    "steps_per_epoch = int( np.ceil(training_set.samples / 32) )\n",
    "val_steps = int( np.ceil(test_set.samples / 32) )\n",
    "\n",
    "model = classifier.fit_generator(\n",
    "        training_set,\n",
    "        steps_per_epoch=steps_per_epoch,\n",
    "        epochs=200,\n",
    "        validation_data = test_set,\n",
    "        validation_steps =val_steps\n",
    "      )\n"
   ]
  },
  {
   "cell_type": "code",
   "execution_count": 13,
   "id": "bc0190cd",
   "metadata": {},
   "outputs": [],
   "source": [
    "basepath=\"C:/Users/Pritam/Desktop/Project Model 2/CNN Model Bitmap\""
   ]
  },
  {
   "cell_type": "code",
   "execution_count": 14,
   "id": "26d459bf",
   "metadata": {},
   "outputs": [
    {
     "name": "stdout",
     "output_type": "stream",
     "text": [
      "20/20 [==============================] - 0s 21ms/step - loss: 0.0968 - accuracy: 0.9695\n",
      "Testing Accuracy: 96.95%\n",
      "78/78 [==============================] - 4s 49ms/step - loss: 0.1239 - accuracy: 0.9622\n",
      "Training Accuracy: 96.22%\n"
     ]
    }
   ],
   "source": [
    "\n",
    "classifier.save(basepath + '/dcom.h5')\n",
    "\n",
    "\n",
    "scores = classifier.evaluate(test_set, verbose=1)\n",
    "B=\"Testing Accuracy: %.2f%%\" % (scores[1]*100)\n",
    "print(B)\n",
    "scores =  classifier.evaluate(training_set, verbose=1)\n",
    "C=\"Training Accuracy: %.2f%%\" % (scores[1]*100)\n",
    "print(C)"
   ]
  },
  {
   "cell_type": "code",
   "execution_count": 15,
   "id": "9413a67f",
   "metadata": {},
   "outputs": [
    {
     "data": {
      "image/png": "[encoded data removed]",
      "text/plain": [
       "<Figure size 640x480 with 1 Axes>"
      ]
     },
     "metadata": {},
     "output_type": "display_data"
    }
   ],
   "source": [
    "import matplotlib.pyplot as plt\n",
    "# summarize history for accuracy\n",
    "plt.plot(model.history['accuracy'])\n",
    "plt.plot(model.history['val_accuracy'])\n",
    "plt.title('model accuracy')\n",
    "plt.ylabel('accuracy')\n",
    "plt.xlabel('epoch')\n",
    "plt.legend(['train', 'test'], loc='upper left')\n",
    "plt.savefig(basepath + \"/accuracy.png\",bbox_inches='tight')\n",
    "\n",
    "plt.show()"
   ]
  },
  {
   "cell_type": "code",
   "execution_count": 16,
   "id": "4c7fe947",
   "metadata": {},
   "outputs": [
    {
     "data": {
      "image/png": "[encoded data removed]",
      "text/plain": [
       "<Figure size 640x480 with 1 Axes>"
      ]
     },
     "metadata": {},
     "output_type": "display_data"
    }
   ],
   "source": [
    "plt.plot(model.history['loss'])\n",
    "plt.plot(model.history['val_loss'])\n",
    "plt.title('model loss')\n",
    "plt.ylabel('loss')\n",
    "plt.xlabel('epoch')\n",
    "plt.legend(['train', 'test'], loc='upper left')\n",
    "plt.savefig(basepath + \"/loss.png\",bbox_inches='tight')\n",
    "\n",
    "plt.show()"
   ]
  },
  {
   "cell_type": "code",
   "execution_count": 18,
   "id": "89976e8e",
   "metadata": {},
   "outputs": [
    {
     "name": "stdout",
     "output_type": "stream",
     "text": [
      "20/20 [==============================] - 1s 22ms/step\n"
     ]
    },
    {
     "data": {
      "text/plain": [
       "array([[9.9877971e-01, 1.2203391e-03],\n",
       "       [9.9999511e-01, 4.8666639e-06],\n",
       "       [9.6618140e-01, 3.3818584e-02],\n",
       "       ...,\n",
       "       [3.5482782e-03, 9.9645174e-01],\n",
       "       [8.0331130e-04, 9.9919671e-01],\n",
       "       [9.4944608e-01, 5.0553888e-02]], dtype=float32)"
      ]
     },
     "execution_count": 18,
     "metadata": {},
     "output_type": "execute_result"
    }
   ],
   "source": [
    "y_pred = classifier.predict(test_set)\n",
    "y_pred"
   ]
  },
  {
   "cell_type": "code",
   "execution_count": 19,
   "id": "f47d51f6",
   "metadata": {},
   "outputs": [
    {
     "data": {
      "text/plain": [
       "array([0, 0, 0, 0, 1, 1, 1, 0, 1, 1, 0, 0, 1, 0, 1, 1, 0, 1, 1, 1, 0, 0,\n",
       "       0, 0, 1, 0, 1, 1, 0, 0, 0, 0, 1, 1, 1, 0, 0, 0, 1, 0, 0, 0, 1, 1,\n",
       "       0, 0, 1, 1, 1, 0, 0, 1, 0, 1, 0, 0, 1, 0, 1, 1, 0, 0, 0, 1, 0, 1,\n",
       "       0, 0, 0, 0, 0, 0, 0, 1, 1, 0, 0, 1, 1, 1, 1, 0, 0, 0, 1, 1, 1, 1,\n",
       "       0, 1, 1, 0, 0, 0, 0, 0, 0, 0, 0, 0, 1, 0, 0, 0, 1, 1, 1, 1, 0, 0,\n",
       "       1, 0, 1, 0, 0, 0, 1, 0, 0, 0, 0, 1, 1, 0, 0, 0, 0, 1, 0, 0, 0, 0,\n",
       "       1, 1, 0, 0, 0, 0, 0, 0, 1, 0, 0, 1, 0, 1, 0, 0, 0, 0, 1, 0, 0, 0,\n",
       "       1, 0, 1, 0, 1, 0, 1, 1, 1, 0, 0, 0, 0, 1, 0, 0, 0, 1, 1, 1, 1, 0,\n",
       "       1, 1, 1, 1, 0, 0, 0, 0, 0, 0, 0, 0, 1, 1, 0, 0, 0, 1, 1, 0, 0, 1,\n",
       "       1, 0, 0, 0, 0, 0, 1, 0, 1, 1, 0, 0, 1, 0, 0, 1, 1, 1, 0, 1, 0, 0,\n",
       "       0, 0, 0, 0, 0, 1, 0, 1, 0, 1, 0, 1, 0, 1, 0, 1, 1, 1, 0, 0, 0, 1,\n",
       "       1, 1, 1, 0, 0, 1, 1, 0, 1, 0, 1, 0, 0, 0, 0, 0, 0, 0, 1, 0, 0, 1,\n",
       "       1, 1, 1, 1, 1, 1, 1, 0, 0, 0, 0, 0, 1, 0, 1, 0, 0, 0, 1, 1, 0, 1,\n",
       "       1, 1, 0, 1, 0, 1, 0, 1, 0, 0, 0, 1, 1, 0, 0, 0, 1, 1, 1, 0, 1, 1,\n",
       "       1, 0, 1, 1, 0, 0, 1, 1, 0, 1, 0, 0, 1, 1, 1, 0, 0, 1, 0, 1, 1, 0,\n",
       "       1, 0, 1, 1, 0, 1, 1, 0, 0, 0, 0, 0, 1, 0, 0, 0, 1, 0, 1, 0, 0, 0,\n",
       "       0, 0, 1, 0, 1, 1, 1, 0, 0, 0, 1, 1, 1, 0, 0, 1, 0, 0, 0, 1, 0, 1,\n",
       "       0, 1, 1, 0, 0, 0, 0, 1, 0, 1, 0, 0, 0, 0, 1, 0, 1, 0, 0, 0, 0, 1,\n",
       "       1, 1, 1, 1, 1, 1, 0, 1, 0, 1, 0, 1, 1, 0, 0, 0, 1, 1, 1, 1, 1, 1,\n",
       "       0, 0, 0, 0, 0, 0, 0, 1, 0, 0, 1, 0, 1, 1, 1, 0, 1, 1, 0, 0, 0, 0,\n",
       "       0, 1, 1, 0, 0, 0, 0, 0, 1, 0, 1, 0, 1, 0, 0, 0, 1, 0, 1, 1, 0, 1,\n",
       "       1, 0, 1, 1, 1, 0, 0, 0, 1, 0, 1, 0, 0, 0, 0, 0, 1, 0, 0, 0, 0, 1,\n",
       "       1, 1, 0, 0, 1, 0, 0, 1, 1, 1, 0, 0, 1, 0, 0, 1, 0, 0, 1, 1, 0, 0,\n",
       "       0, 0, 0, 0, 0, 0, 0, 1, 0, 1, 0, 0, 0, 0, 1, 1, 0, 0, 0, 0, 0, 0,\n",
       "       1, 1, 1, 0, 0, 1, 1, 1, 1, 0, 0, 0, 0, 0, 0, 1, 0, 0, 1, 0, 0, 0,\n",
       "       1, 0, 0, 0, 1, 0, 1, 1, 0, 0, 0, 0, 1, 1, 0, 1, 1, 0, 0, 1, 1, 0,\n",
       "       0, 0, 1, 0, 1, 1, 0, 0, 1, 0, 0, 0, 1, 0, 0, 1, 0, 1, 0, 0, 0, 0,\n",
       "       0, 0, 1, 1, 1, 1, 1, 1, 0, 1, 0, 1, 0, 0, 1, 0, 0, 1, 0, 0, 1, 1,\n",
       "       1, 1, 0, 1, 1, 0], dtype=int64)"
      ]
     },
     "execution_count": 19,
     "metadata": {},
     "output_type": "execute_result"
    }
   ],
   "source": [
    "import numpy as np\n",
    "y_pred = np.argmax(y_pred, axis=1)\n",
    "y_pred"
   ]
  },
  {
   "cell_type": "code",
   "execution_count": 20,
   "id": "326c5b97",
   "metadata": {},
   "outputs": [],
   "source": [
    "y_true=test_set.classes[test_set.index_array] "
   ]
  },
  {
   "cell_type": "code",
   "execution_count": 21,
   "id": "cc3c0a06",
   "metadata": {},
   "outputs": [
    {
     "name": "stdout",
     "output_type": "stream",
     "text": [
      "Accuracy: 0.541801\n"
     ]
    }
   ],
   "source": [
    "from sklearn.metrics import accuracy_score\n",
    "accuracy = accuracy_score(y_true, y_pred)\n",
    "print('Accuracy: %f' % accuracy)"
   ]
  },
  {
   "cell_type": "code",
   "execution_count": 22,
   "id": "fd377106",
   "metadata": {},
   "outputs": [
    {
     "name": "stdout",
     "output_type": "stream",
     "text": [
      "Precision: 0.533416\n"
     ]
    }
   ],
   "source": [
    "from sklearn.metrics import precision_score\n",
    "precision = precision_score(y_true, y_pred,average='macro')\n",
    "print('Precision: %f' % precision)"
   ]
  },
  {
   "cell_type": "code",
   "execution_count": 23,
   "id": "ebc3fdae",
   "metadata": {},
   "outputs": [
    {
     "name": "stdout",
     "output_type": "stream",
     "text": [
      "Recall: 0.533088\n"
     ]
    }
   ],
   "source": [
    "from sklearn.metrics import recall_score\n",
    "recall = recall_score(y_true, y_pred,average='macro')\n",
    "print('Recall: %f' % recall)"
   ]
  },
  {
   "cell_type": "code",
   "execution_count": 24,
   "id": "7d458f78",
   "metadata": {},
   "outputs": [
    {
     "name": "stdout",
     "output_type": "stream",
     "text": [
      "F1 score: 0.533081\n"
     ]
    }
   ],
   "source": [
    "from sklearn.metrics import f1_score\n",
    "f1=f1_score(y_true, y_pred,average='macro')\n",
    "print('F1 score: %f' % f1)"
   ]
  },
  {
   "cell_type": "code",
   "execution_count": 25,
   "id": "ffea9720",
   "metadata": {},
   "outputs": [],
   "source": [
    "y_true=test_set.classes[test_set.index_array] "
   ]
  },
  {
   "cell_type": "code",
   "execution_count": 26,
   "id": "ec1cb355",
   "metadata": {},
   "outputs": [
    {
     "data": {
      "text/plain": [
       "<AxesSubplot:>"
      ]
     },
     "execution_count": 26,
     "metadata": {},
     "output_type": "execute_result"
    },
    {
     "data": {
      "image/png": "[encoded data removed]",
      "text/plain": [
       "<Figure size 640x480 with 2 Axes>"
      ]
     },
     "metadata": {},
     "output_type": "display_data"
    }
   ],
   "source": [
    "from sklearn.metrics import plot_confusion_matrix\n",
    "from sklearn.metrics import pair_confusion_matrix\n",
    "import itertools\n",
    "import seaborn as sns\n",
    "from sklearn.metrics import classification_report, confusion_matrix, accuracy_score\n",
    "#from plot_conf_matr import plot_confusion_matrix\n",
    "# cm = confusion_matrix(y_true, y_pred)\n",
    "# plot_confusion_matrix(y_true, y_pred, normalize=False)\n",
    "from sklearn.metrics import confusion_matrix\n",
    "classNames = ['Normal','Abnormal']\n",
    "sns.heatmap(confusion_matrix(y_true,y_pred),annot=True)\n",
    "# plot_confusion_matrix(y_true,y_pred, classNames) "
   ]
  },
  {
   "cell_type": "code",
   "execution_count": 13,
   "id": "9ba52e89",
   "metadata": {},
   "outputs": [
    {
     "name": "stdout",
     "output_type": "stream",
     "text": [
      "WARNING:tensorflow:5 out of the last 5 calls to <function Model.make_predict_function.<locals>.predict_function at 0x000001F23A2E83A0> triggered tf.function retracing. Tracing is expensive and the excessive number of tracings could be due to (1) creating @tf.function repeatedly in a loop, (2) passing tensors with different shapes, (3) passing Python objects instead of tensors. For (1), please define your @tf.function outside of the loop. For (2), @tf.function has reduce_retracing=True option that can avoid unnecessary retracing. For (3), please refer to https://www.tensorflow.org/guide/function#controlling_retracing and https://www.tensorflow.org/api_docs/python/tf/function for  more details.\n",
      "1/1 [==============================] - 0s 72ms/step\n",
      "Predicted class:  normal\n",
      "Probability: 0.7406909\n"
     ]
    }
   ],
   "source": [
    "import tensorflow as tf\n",
    "import numpy as np\n",
    "import cv2\n",
    "from tensorflow.keras.preprocessing import image\n",
    "\n",
    "# define the path to the saved model\n",
    "model_path = \"C:/Users/Pritam/Desktop/Project Model 2/CNN Model Bitmap/dcom.h5\"\n",
    "\n",
    "# load the saved model\n",
    "model = tf.keras.models.load_model(model_path)\n",
    "\n",
    "# define the class labels\n",
    "class_labels = ['normal', 'abnormal']\n",
    "\n",
    "# load and preprocess the image\n",
    "image_path = \"C:/Users/Pritam/Desktop/Project Model 2/CNN Model Bitmap/testing_set/0/1 (216).jpg\"  # Replace with the path to your image\n",
    "img = image.load_img(image_path, target_size=(64, 64))\n",
    "x = image.img_to_array(img)\n",
    "x = np.expand_dims(x, axis=0)\n",
    "x /= 255.0\n",
    "\n",
    "# predict the class label\n",
    "preds = model.predict(x)\n",
    "predicted_class_index = np.argmax(preds[0])\n",
    "predicted_class_label = class_labels[predicted_class_index]\n",
    "probability = preds[0][predicted_class_index]\n",
    "\n",
    "\n",
    "# print the predicted class label\n",
    "print(\"Predicted class: \", predicted_class_label)\n",
    "print(\"Probability:\", probability)"
   ]
  },
  {
   "cell_type": "code",
   "execution_count": null,
   "id": "9d7195de",
   "metadata": {},
   "outputs": [],
   "source": []
  }
 ],
 "metadata": {
  "kernelspec": {
   "display_name": "Python 3 (ipykernel)",
   "language": "python",
   "name": "python3"
  },
  "language_info": {
   "codemirror_mode": {
    "name": "ipython",
    "version": 3
   },
   "file_extension": ".py",
   "mimetype": "text/x-python",
   "name": "python",
   "nbconvert_exporter": "python",
   "pygments_lexer": "ipython3",
   "version": "3.9.13"
  }
 },
 "nbformat": 4,
 "nbformat_minor": 5
}
